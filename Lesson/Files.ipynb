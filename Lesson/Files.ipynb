{
 "cells": [
  {
   "cell_type": "markdown",
   "id": "be95267d",
   "metadata": {},
   "source": [
    "Для открытия файлов в Python существует функция open(). Она создает файловый объект и связывает его с файлом на диске. Общий формат применения функции open():"
   ]
  },
  {
   "cell_type": "code",
   "execution_count": null,
   "id": "a5bb8ea4",
   "metadata": {},
   "outputs": [],
   "source": [
    "student_file = open('students.txt', 'r')"
   ]
  },
  {
   "cell_type": "code",
   "execution_count": null,
   "id": "c4f8b8bb",
   "metadata": {},
   "outputs": [],
   "source": [
    "student_file = open('students.txt')   # по умолчанию режим доступа для чтения ('r')\n"
   ]
  },
  {
   "cell_type": "markdown",
   "id": "b49d9b25",
   "metadata": {},
   "source": [
    "При работе с текстом на русском языке нужно указать кодировку, для этого служит параметр encoding:"
   ]
  },
  {
   "cell_type": "code",
   "execution_count": null,
   "id": "a65b1f55",
   "metadata": {},
   "outputs": [],
   "source": [
    "file = open('info.txt', 'r', encoding='utf-8')"
   ]
  },
  {
   "cell_type": "markdown",
   "id": "15d3bbd5",
   "metadata": {},
   "source": [
    "После окончания работы с файлом его необходимо закрыть. Для этого есть несколько причин:\n",
    "- если файл изменялся, это позволит корректно его сохранить;\n",
    "- если открытый файл потребуется другим программам, ваша программа может его блокировать;\n",
    "- не стоит держать в памяти лишние, уже не нужные данные;\n",
    "- удалить открытый кем-то файл проблематично."
   ]
  },
  {
   "cell_type": "code",
   "execution_count": null,
   "id": "eb7981d9",
   "metadata": {},
   "outputs": [],
   "source": [
    "file = open('info.txt', 'r')    # открываем файл с именем info.txt для чтения\n",
    "\n",
    "                                # работаем с содержимым файла info.txt\n",
    "\n",
    "file.close()                    # закрываем файл после окончания работы"
   ]
  },
  {
   "cell_type": "markdown",
   "id": "5a184354",
   "metadata": {},
   "source": [
    "Для чтения содержимого открытого для чтения файла используются три файловых метода:\n",
    "\n",
    "read() – читает все содержимое файла;\n",
    "readline() – читает одну строку из файла;\n",
    "readlines() – читает все содержимое файла и возвращает список строк."
   ]
  },
  {
   "cell_type": "code",
   "execution_count": null,
   "id": "6e2242c4",
   "metadata": {},
   "outputs": [],
   "source": [
    "file = open('languages.txt', 'r', encoding='utf-8')\n",
    "\n",
    "content = file.read()\n",
    "print(content)\n",
    "\n",
    "file.close()"
   ]
  },
  {
   "cell_type": "code",
   "execution_count": null,
   "id": "2b1a824a",
   "metadata": {},
   "outputs": [],
   "source": [
    "file = open('languages.txt', 'r', encoding='utf-8')\n",
    "\n",
    "language = file.readline()\n",
    "print(language)\n",
    "\n",
    "file.close()"
   ]
  },
  {
   "cell_type": "code",
   "execution_count": null,
   "id": "052e0daa",
   "metadata": {},
   "outputs": [],
   "source": [
    "file = open('languages.txt', 'r', encoding='utf-8')\n",
    "\n",
    "for line in file:\n",
    "    print(line.strip())\n",
    "    \n",
    "file.close()"
   ]
  },
  {
   "cell_type": "code",
   "execution_count": null,
   "id": "a6544090",
   "metadata": {},
   "outputs": [],
   "source": [
    "file = open('languages.txt', 'r', encoding='utf-8')\n",
    "\n",
    "languages = file.readlines()\n",
    "print(languages)\n",
    "\n",
    "file.close()"
   ]
  },
  {
   "cell_type": "markdown",
   "id": "036b31f0",
   "metadata": {},
   "source": [
    "Менеджер контекста — объект, реализующий одноименный протокол. Объекты, реализующие этот протокол, позволяют использовать следующий специальный синтаксис:"
   ]
  },
  {
   "cell_type": "code",
   "execution_count": null,
   "id": "c4bbff5a",
   "metadata": {},
   "outputs": [],
   "source": [
    "with object as name:\n",
    "    # Здесь нам доступен ресурс name.\n",
    "    # Это тело with-блока.\n",
    "# А здесь ресурс name уже освобождён, даже если в теле with-блока произошла ошибка."
   ]
  },
  {
   "cell_type": "code",
   "execution_count": null,
   "id": "e6ced5f7",
   "metadata": {},
   "outputs": [],
   "source": [
    "file = open('languages.txt', 'r', encoding='utf-8')\n",
    "\n",
    "for line in file:\n",
    "    print(line)\n",
    "\n",
    "file.close()              # ручное закрытие файла\n",
    "\n",
    "print('Файл закрыт')"
   ]
  },
  {
   "cell_type": "code",
   "execution_count": null,
   "id": "9f05dc6a",
   "metadata": {},
   "outputs": [],
   "source": [
    "with open('languages.txt', 'r', encoding='utf-8') as file:\n",
    "    for line in file:\n",
    "        print(line)\n",
    "                          # автоматическое закрытие файла\n",
    "print('Файл закрыт')"
   ]
  },
  {
   "cell_type": "markdown",
   "id": "e2e45290",
   "metadata": {},
   "source": [
    "Метод write()\n",
    "Общий формат применения файлового метода write()\n",
    "Для записи данных в файл он должен быть открыт для записи (режимы 'w', 'а', 'r+'), иначе произойдет ошибка."
   ]
  },
  {
   "cell_type": "code",
   "execution_count": 11,
   "id": "de4e6d64",
   "metadata": {},
   "outputs": [
    {
     "name": "stdout",
     "output_type": "stream",
     "text": [
      "Done\n"
     ]
    }
   ],
   "source": [
    "s = \"\"\"\n",
    "First line of the file.\n",
    "Second line of the file.\n",
    "Third line of the file.\n",
    "\"\"\"\n",
    "\n",
    "with open('myfile.txt', 'w') as file:\n",
    "    file.write(s.strip())\n",
    "\n",
    "print(\"Done\")"
   ]
  },
  {
   "cell_type": "markdown",
   "id": "c8131109",
   "metadata": {},
   "source": [
    "Метод writelines()\n",
    "Метод writelines() принимает в качестве аргумента список строк и записывает его в файл."
   ]
  },
  {
   "cell_type": "code",
   "execution_count": null,
   "id": "78d68216",
   "metadata": {},
   "outputs": [],
   "source": [
    "philosophers = ['Джoн Локк\\n', 'Дэвид Хьюм\\n', 'Эдмyнд Берк\\n']\n",
    "\n",
    "with open('philosophers.txt', 'w', encoding='utf-8') as file:\n",
    "    file.writelines(philosophers)"
   ]
  },
  {
   "cell_type": "markdown",
   "id": "508aed93",
   "metadata": {},
   "source": [
    "Запись в файл с помощью функции print()\n",
    "Для записи данных в файл можно также использовать встроенную функцию print(). Для этого нужно передать ей еще один именованный аргумент file, указывающий на открытый файл. При этом функция print() автоматически добавляет переход на новую строку."
   ]
  },
  {
   "cell_type": "code",
   "execution_count": 17,
   "id": "f3c7923a",
   "metadata": {},
   "outputs": [],
   "source": [
    "with open('philosophers.txt', 'w', encoding='utf-8') as output:\n",
    "    print('Джoн Локк', file=output)\n",
    "    print('Дэвид Хьюм', file=output)\n",
    "    print('Эдмyнд Берк', file=output)"
   ]
  },
  {
   "cell_type": "code",
   "execution_count": 16,
   "id": "548f3e1f",
   "metadata": {},
   "outputs": [],
   "source": [
    "with open('philosophers.txt', 'w', encoding='utf-8') as output:\n",
    "    print('Джoн Локк', 'Дэвид Хьюм', 'Эдмyнд Берк', sep='***', file=output)"
   ]
  }
 ],
 "metadata": {
  "kernelspec": {
   "display_name": "Python 3",
   "language": "python",
   "name": "python3"
  },
  "language_info": {
   "codemirror_mode": {
    "name": "ipython",
    "version": 3
   },
   "file_extension": ".py",
   "mimetype": "text/x-python",
   "name": "python",
   "nbconvert_exporter": "python",
   "pygments_lexer": "ipython3",
   "version": "3.13.7"
  }
 },
 "nbformat": 4,
 "nbformat_minor": 5
}
